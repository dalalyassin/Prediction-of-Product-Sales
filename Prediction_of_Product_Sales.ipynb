{
  "nbformat": 4,
  "nbformat_minor": 0,
  "metadata": {
    "colab": {
      "provenance": [],
      "include_colab_link": true
    },
    "kernelspec": {
      "name": "python3",
      "display_name": "Python 3"
    },
    "language_info": {
      "name": "python"
    }
  },
  "cells": [
    {
      "cell_type": "markdown",
      "metadata": {
        "id": "view-in-github",
        "colab_type": "text"
      },
      "source": [
        "<a href=\"https://colab.research.google.com/github/dalalyassin/Prediction-of-Product-Sales/blob/main/Prediction_of_Product_Sales.ipynb\" target=\"_parent\"><img src=\"https://colab.research.google.com/assets/colab-badge.svg\" alt=\"Open In Colab\"/></a>"
      ]
    },
    {
      "cell_type": "code",
      "execution_count": null,
      "metadata": {
        "id": "w8qY9o_PVFqo"
      },
      "outputs": [],
      "source": [
        "## \"Project Overview\""
      ]
    },
    {
      "cell_type": "code",
      "source": [
        "## \"Load and Inspect Data\"\n"
      ],
      "metadata": {
        "id": "reLJa0tEYfer"
      },
      "execution_count": null,
      "outputs": []
    },
    {
      "cell_type": "code",
      "source": [
        "## \"Clean Data\""
      ],
      "metadata": {
        "id": "CjgjEleTYhMI"
      },
      "execution_count": null,
      "outputs": []
    },
    {
      "cell_type": "code",
      "source": [
        "## \"Exploratory Data Analysis\"\n"
      ],
      "metadata": {
        "id": "Oz_Rf_e6YjKy"
      },
      "execution_count": null,
      "outputs": []
    },
    {
      "cell_type": "code",
      "source": [
        "## \"Feature Inspection\"\n"
      ],
      "metadata": {
        "id": "v2q1sqOCYk7C"
      },
      "execution_count": null,
      "outputs": []
    },
    {
      "cell_type": "code",
      "source": [],
      "metadata": {
        "id": "gomxZBSsYnE8"
      },
      "execution_count": null,
      "outputs": []
    }
  ]
}