{
  "nbformat": 4,
  "nbformat_minor": 0,
  "metadata": {
    "colab": {
      "provenance": [],
      "include_colab_link": true
    },
    "kernelspec": {
      "name": "python3",
      "display_name": "Python 3"
    },
    "language_info": {
      "name": "python"
    }
  },
  "cells": [
    {
      "cell_type": "markdown",
      "metadata": {
        "id": "view-in-github",
        "colab_type": "text"
      },
      "source": [
        "<a href=\"https://colab.research.google.com/github/dalalyassin/Prediction-of-Product-Sales/blob/main/Copy_of_Prediction_of_Product_Sales.ipynb\" target=\"_parent\"><img src=\"https://colab.research.google.com/assets/colab-badge.svg\" alt=\"Open In Colab\"/></a>"
      ]
    },
    {
      "cell_type": "markdown",
      "source": [
        "Prediction of Product Sales\n",
        "\n",
        "*   Author : Dalal Yassin\n",
        "\n"
      ],
      "metadata": {
        "id": "f1ZnrL7UZ47h"
      }
    },
    {
      "cell_type": "markdown",
      "source": [
        "Project Overview\n"
      ],
      "metadata": {
        "id": "a5F7c6x_aDf3"
      }
    },
    {
      "cell_type": "markdown",
      "source": [
        "Load and Inspect Data"
      ],
      "metadata": {
        "id": "dTbmpfOxaQkI"
      }
    },
    {
      "cell_type": "code",
      "source": [],
      "metadata": {
        "id": "1-cCe1-naVFp"
      },
      "execution_count": null,
      "outputs": []
    },
    {
      "cell_type": "markdown",
      "source": [
        "Clean Data"
      ],
      "metadata": {
        "id": "WUnjAdovaVsx"
      }
    },
    {
      "cell_type": "code",
      "source": [],
      "metadata": {
        "id": "Swa0WNAGaahY"
      },
      "execution_count": null,
      "outputs": []
    },
    {
      "cell_type": "markdown",
      "source": [
        "Exploratory Data Analysis"
      ],
      "metadata": {
        "id": "iTC_Pzc7aeii"
      }
    },
    {
      "cell_type": "code",
      "source": [],
      "metadata": {
        "id": "n5PqL9e9agxx"
      },
      "execution_count": null,
      "outputs": []
    },
    {
      "cell_type": "markdown",
      "source": [
        "Feature Inspection"
      ],
      "metadata": {
        "id": "3DUfdd_yahRl"
      }
    },
    {
      "cell_type": "code",
      "source": [],
      "metadata": {
        "id": "TRCspY5TajrT"
      },
      "execution_count": null,
      "outputs": []
    }
  ]
}